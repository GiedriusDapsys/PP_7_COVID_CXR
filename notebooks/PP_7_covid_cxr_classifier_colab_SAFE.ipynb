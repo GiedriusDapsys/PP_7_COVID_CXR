{
  "cells": [
    {
      "cell_type": "markdown",
      "metadata": {
        "id": "view-in-github",
        "colab_type": "text"
      },
      "source": [
        "<a href=\"https://colab.research.google.com/github/GiedriusDapsys/PP_7_COVID_CXR/blob/main/notebooks/PP_7_covid_cxr_classifier_colab_SAFE.ipynb\" target=\"_parent\"><img src=\"https://colab.research.google.com/assets/colab-badge.svg\" alt=\"Open In Colab\"/></a>"
      ]
    },
    {
      "cell_type": "markdown",
      "id": "4967f871",
      "metadata": {
        "id": "4967f871"
      },
      "source": [
        "\n",
        "# COVID-19 Chest X-ray Classifier (Binary: COVID vs non-COVID)\n",
        "\n",
        "**Variant A:** Use the **COVID-19 Radiography Dataset** (Kaggle) and train a transfer-learning model (EfficientNetB0) to classify **COVID** vs **non-COVID** (merging Normal, Viral Pneumonia, Lung Opacity).  \n",
        "Includes: data download (via Kaggle API), reproducible train/val/test split, training, threshold tuning for **sensitivity/specifiškumas**, ROC/PR kreivės, **Grad-CAM** aiškinamumas, ir trumpa refleksija.\n",
        "\n",
        "> Dataset (overview & updates): Kaggle COVID-19 Radiography Dataset – class counts and structure (COVID, Normal, Viral Pneumonia, Lung_Opacity).  \n",
        "> Paper mentioned in the task: Minaee *et al.*, 2020 (PMC7372265) — early chest X-ray COVID study.\n",
        "\n",
        "**Important:** This notebook is purely for educational purposes. It is **not** a clinical diagnostic tool.\n"
      ]
    },
    {
      "cell_type": "markdown",
      "id": "d6a2ab4a",
      "metadata": {
        "id": "d6a2ab4a"
      },
      "source": [
        "\n",
        "## 1) Environment setup\n",
        "\n",
        "- Colab: make sure GPU is enabled (`Runtime → Change runtime type → GPU`).\n",
        "- We use TensorFlow/Keras, scikit-learn, matplotlib.  \n",
        "- We'll download the dataset from Kaggle (you'll upload your `kaggle.json`).\n"
      ]
    },
    {
      "cell_type": "code",
      "execution_count": 1,
      "id": "c80876af",
      "metadata": {
        "colab": {
          "base_uri": "https://localhost:8080/"
        },
        "id": "c80876af",
        "outputId": "bbc6d7ab-edcc-43dc-c7d9-25d0dfc1f5c2"
      },
      "outputs": [
        {
          "output_type": "stream",
          "name": "stdout",
          "text": [
            "  Preparing metadata (setup.py) ... \u001b[?25l\u001b[?25hdone\n",
            "  Building wheel for kaggle (setup.py) ... \u001b[?25l\u001b[?25hdone\n"
          ]
        }
      ],
      "source": [
        "\n",
        "# If you're in Colab, TensorFlow should already be installed.\n",
        "# Install Kaggle API for dataset download.\n",
        "!pip -q install kaggle==1.6.17 --progress-bar off\n"
      ]
    },
    {
      "cell_type": "markdown",
      "id": "af875d55",
      "metadata": {
        "id": "af875d55"
      },
      "source": [
        "\n",
        "## 2) Kaggle API credentials\n",
        "\n",
        "1. Get your `kaggle.json` from https://www.kaggle.com/settings/account (Create New API Token).  \n",
        "2. Upload it below when prompted.  \n",
        "3. We'll set proper permissions and download the dataset.\n"
      ]
    },
    {
      "cell_type": "code",
      "execution_count": 2,
      "id": "fdda6621",
      "metadata": {
        "colab": {
          "base_uri": "https://localhost:8080/",
          "height": 125
        },
        "id": "fdda6621",
        "outputId": "2e8061b9-f9a7-4134-aec4-238a085463fb"
      },
      "outputs": [
        {
          "output_type": "stream",
          "name": "stdout",
          "text": [
            "➡️ Please upload your kaggle.json (from Kaggle Account settings).\n"
          ]
        },
        {
          "output_type": "display_data",
          "data": {
            "text/plain": [
              "<IPython.core.display.HTML object>"
            ],
            "text/html": [
              "\n",
              "     <input type=\"file\" id=\"files-05c89406-858f-4e10-a513-642e46f57e22\" name=\"files[]\" multiple disabled\n",
              "        style=\"border:none\" />\n",
              "     <output id=\"result-05c89406-858f-4e10-a513-642e46f57e22\">\n",
              "      Upload widget is only available when the cell has been executed in the\n",
              "      current browser session. Please rerun this cell to enable.\n",
              "      </output>\n",
              "      <script>// Copyright 2017 Google LLC\n",
              "//\n",
              "// Licensed under the Apache License, Version 2.0 (the \"License\");\n",
              "// you may not use this file except in compliance with the License.\n",
              "// You may obtain a copy of the License at\n",
              "//\n",
              "//      http://www.apache.org/licenses/LICENSE-2.0\n",
              "//\n",
              "// Unless required by applicable law or agreed to in writing, software\n",
              "// distributed under the License is distributed on an \"AS IS\" BASIS,\n",
              "// WITHOUT WARRANTIES OR CONDITIONS OF ANY KIND, either express or implied.\n",
              "// See the License for the specific language governing permissions and\n",
              "// limitations under the License.\n",
              "\n",
              "/**\n",
              " * @fileoverview Helpers for google.colab Python module.\n",
              " */\n",
              "(function(scope) {\n",
              "function span(text, styleAttributes = {}) {\n",
              "  const element = document.createElement('span');\n",
              "  element.textContent = text;\n",
              "  for (const key of Object.keys(styleAttributes)) {\n",
              "    element.style[key] = styleAttributes[key];\n",
              "  }\n",
              "  return element;\n",
              "}\n",
              "\n",
              "// Max number of bytes which will be uploaded at a time.\n",
              "const MAX_PAYLOAD_SIZE = 100 * 1024;\n",
              "\n",
              "function _uploadFiles(inputId, outputId) {\n",
              "  const steps = uploadFilesStep(inputId, outputId);\n",
              "  const outputElement = document.getElementById(outputId);\n",
              "  // Cache steps on the outputElement to make it available for the next call\n",
              "  // to uploadFilesContinue from Python.\n",
              "  outputElement.steps = steps;\n",
              "\n",
              "  return _uploadFilesContinue(outputId);\n",
              "}\n",
              "\n",
              "// This is roughly an async generator (not supported in the browser yet),\n",
              "// where there are multiple asynchronous steps and the Python side is going\n",
              "// to poll for completion of each step.\n",
              "// This uses a Promise to block the python side on completion of each step,\n",
              "// then passes the result of the previous step as the input to the next step.\n",
              "function _uploadFilesContinue(outputId) {\n",
              "  const outputElement = document.getElementById(outputId);\n",
              "  const steps = outputElement.steps;\n",
              "\n",
              "  const next = steps.next(outputElement.lastPromiseValue);\n",
              "  return Promise.resolve(next.value.promise).then((value) => {\n",
              "    // Cache the last promise value to make it available to the next\n",
              "    // step of the generator.\n",
              "    outputElement.lastPromiseValue = value;\n",
              "    return next.value.response;\n",
              "  });\n",
              "}\n",
              "\n",
              "/**\n",
              " * Generator function which is called between each async step of the upload\n",
              " * process.\n",
              " * @param {string} inputId Element ID of the input file picker element.\n",
              " * @param {string} outputId Element ID of the output display.\n",
              " * @return {!Iterable<!Object>} Iterable of next steps.\n",
              " */\n",
              "function* uploadFilesStep(inputId, outputId) {\n",
              "  const inputElement = document.getElementById(inputId);\n",
              "  inputElement.disabled = false;\n",
              "\n",
              "  const outputElement = document.getElementById(outputId);\n",
              "  outputElement.innerHTML = '';\n",
              "\n",
              "  const pickedPromise = new Promise((resolve) => {\n",
              "    inputElement.addEventListener('change', (e) => {\n",
              "      resolve(e.target.files);\n",
              "    });\n",
              "  });\n",
              "\n",
              "  const cancel = document.createElement('button');\n",
              "  inputElement.parentElement.appendChild(cancel);\n",
              "  cancel.textContent = 'Cancel upload';\n",
              "  const cancelPromise = new Promise((resolve) => {\n",
              "    cancel.onclick = () => {\n",
              "      resolve(null);\n",
              "    };\n",
              "  });\n",
              "\n",
              "  // Wait for the user to pick the files.\n",
              "  const files = yield {\n",
              "    promise: Promise.race([pickedPromise, cancelPromise]),\n",
              "    response: {\n",
              "      action: 'starting',\n",
              "    }\n",
              "  };\n",
              "\n",
              "  cancel.remove();\n",
              "\n",
              "  // Disable the input element since further picks are not allowed.\n",
              "  inputElement.disabled = true;\n",
              "\n",
              "  if (!files) {\n",
              "    return {\n",
              "      response: {\n",
              "        action: 'complete',\n",
              "      }\n",
              "    };\n",
              "  }\n",
              "\n",
              "  for (const file of files) {\n",
              "    const li = document.createElement('li');\n",
              "    li.append(span(file.name, {fontWeight: 'bold'}));\n",
              "    li.append(span(\n",
              "        `(${file.type || 'n/a'}) - ${file.size} bytes, ` +\n",
              "        `last modified: ${\n",
              "            file.lastModifiedDate ? file.lastModifiedDate.toLocaleDateString() :\n",
              "                                    'n/a'} - `));\n",
              "    const percent = span('0% done');\n",
              "    li.appendChild(percent);\n",
              "\n",
              "    outputElement.appendChild(li);\n",
              "\n",
              "    const fileDataPromise = new Promise((resolve) => {\n",
              "      const reader = new FileReader();\n",
              "      reader.onload = (e) => {\n",
              "        resolve(e.target.result);\n",
              "      };\n",
              "      reader.readAsArrayBuffer(file);\n",
              "    });\n",
              "    // Wait for the data to be ready.\n",
              "    let fileData = yield {\n",
              "      promise: fileDataPromise,\n",
              "      response: {\n",
              "        action: 'continue',\n",
              "      }\n",
              "    };\n",
              "\n",
              "    // Use a chunked sending to avoid message size limits. See b/62115660.\n",
              "    let position = 0;\n",
              "    do {\n",
              "      const length = Math.min(fileData.byteLength - position, MAX_PAYLOAD_SIZE);\n",
              "      const chunk = new Uint8Array(fileData, position, length);\n",
              "      position += length;\n",
              "\n",
              "      const base64 = btoa(String.fromCharCode.apply(null, chunk));\n",
              "      yield {\n",
              "        response: {\n",
              "          action: 'append',\n",
              "          file: file.name,\n",
              "          data: base64,\n",
              "        },\n",
              "      };\n",
              "\n",
              "      let percentDone = fileData.byteLength === 0 ?\n",
              "          100 :\n",
              "          Math.round((position / fileData.byteLength) * 100);\n",
              "      percent.textContent = `${percentDone}% done`;\n",
              "\n",
              "    } while (position < fileData.byteLength);\n",
              "  }\n",
              "\n",
              "  // All done.\n",
              "  yield {\n",
              "    response: {\n",
              "      action: 'complete',\n",
              "    }\n",
              "  };\n",
              "}\n",
              "\n",
              "scope.google = scope.google || {};\n",
              "scope.google.colab = scope.google.colab || {};\n",
              "scope.google.colab._files = {\n",
              "  _uploadFiles,\n",
              "  _uploadFilesContinue,\n",
              "};\n",
              "})(self);\n",
              "</script> "
            ]
          },
          "metadata": {}
        },
        {
          "output_type": "stream",
          "name": "stdout",
          "text": [
            "Saving kaggle.json to kaggle.json\n",
            "✅ kaggle.json saved to /root/.kaggle/kaggle.json\n",
            "Kaggle creds ok? True\n"
          ]
        }
      ],
      "source": [
        "\n",
        "import os, json, pathlib, subprocess, sys\n",
        "\n",
        "KAGGLE_DIR = pathlib.Path.home() / \".kaggle\"\n",
        "KAGGLE_JSON = KAGGLE_DIR / \"kaggle.json\"\n",
        "\n",
        "def ensure_kaggle_creds():\n",
        "    if KAGGLE_JSON.exists():\n",
        "        return True\n",
        "    try:\n",
        "        from google.colab import files  # type: ignore\n",
        "        print(\"➡️ Please upload your kaggle.json (from Kaggle Account settings).\")\n",
        "        uploaded = files.upload()\n",
        "        if 'kaggle.json' in uploaded:\n",
        "            KAGGLE_DIR.mkdir(parents=True, exist_ok=True)\n",
        "            with open(KAGGLE_JSON, 'wb') as f:\n",
        "                f.write(uploaded['kaggle.json'])\n",
        "            os.chmod(KAGGLE_JSON, 0o600)\n",
        "            print(\"✅ kaggle.json saved to\", KAGGLE_JSON)\n",
        "            return True\n",
        "        else:\n",
        "            print(\"⚠️ kaggle.json not found among uploaded files.\")\n",
        "            return False\n",
        "    except Exception as e:\n",
        "        print(\"Note: If not on Colab, place your kaggle.json at\", KAGGLE_JSON, \"and re-run.\")\n",
        "        print(\"Error:\", e)\n",
        "        return KAGGLE_JSON.exists()\n",
        "\n",
        "ok = ensure_kaggle_creds()\n",
        "print(\"Kaggle creds ok?\", ok)\n"
      ]
    },
    {
      "cell_type": "markdown",
      "id": "6b3caf69",
      "metadata": {
        "id": "6b3caf69"
      },
      "source": [
        "\n",
        "## 3) Download the dataset\n",
        "\n",
        "We try two mirrors of the same dataset on Kaggle:\n",
        "- `tawsifurrahman/covid19-radiography-database`\n",
        "- `preetviradiya/covid19-radiography-dataset` (often more up-to-date)\n",
        "\n",
        "We will try **preetviradiya** first, then fall back to **tawsifurrahman**.\n"
      ]
    },
    {
      "cell_type": "code",
      "execution_count": 3,
      "id": "1da4bab8",
      "metadata": {
        "colab": {
          "base_uri": "https://localhost:8080/"
        },
        "id": "1da4bab8",
        "outputId": "8437c2f4-1102-4e11-f0af-51dae73d7603"
      },
      "outputs": [
        {
          "output_type": "stream",
          "name": "stdout",
          "text": [
            "Attempting to download: preetviradiya/covid19-radiography-dataset\n",
            "Unzipping: covid19-radiography-dataset.zip\n"
          ]
        },
        {
          "output_type": "execute_result",
          "data": {
            "text/plain": [
              "[PosixPath('/content/data')]"
            ]
          },
          "metadata": {},
          "execution_count": 3
        }
      ],
      "source": [
        "\n",
        "import zipfile, shutil\n",
        "\n",
        "DATA_ROOT = pathlib.Path(\"/content/data\")\n",
        "DATA_ROOT.mkdir(parents=True, exist_ok=True)\n",
        "\n",
        "def kaggle_download(dataset_slug, outdir=DATA_ROOT):\n",
        "    print(f\"Attempting to download: {dataset_slug}\")\n",
        "    cmd = [\"kaggle\", \"datasets\", \"download\", \"-d\", dataset_slug, \"-p\", str(outdir)]\n",
        "    r = subprocess.run(cmd, capture_output=True, text=True)\n",
        "    if r.returncode != 0:\n",
        "        print(\"❌ Kaggle download failed:\", r.stderr.strip())\n",
        "        return None\n",
        "    # Find a ZIP file in outdir\n",
        "    zips = list(outdir.glob(\"*.zip\"))\n",
        "    if not zips:\n",
        "        print(\"❌ No zip file found after Kaggle download.\")\n",
        "        return None\n",
        "    zf = zips[0]\n",
        "    print(\"Unzipping:\", zf.name)\n",
        "    with zipfile.ZipFile(zf, 'r') as z:\n",
        "        z.extractall(outdir)\n",
        "    zf.unlink(missing_ok=True)\n",
        "    return outdir\n",
        "\n",
        "dataset_paths = []\n",
        "if ok:\n",
        "    p = kaggle_download(\"preetviradiya/covid19-radiography-dataset\", DATA_ROOT)\n",
        "    if p is None:\n",
        "        p = kaggle_download(\"tawsifurrahman/covid19-radiography-database\", DATA_ROOT)\n",
        "    if p:\n",
        "        dataset_paths.append(p)\n",
        "\n",
        "dataset_paths\n"
      ]
    },
    {
      "cell_type": "markdown",
      "id": "cb032496",
      "metadata": {
        "id": "cb032496"
      },
      "source": [
        "\n",
        "## 4) Inspect & harmonize folder structure\n",
        "\n",
        "We will search for class folders (case-insensitive): `COVID`, `COVID-19`, `Normal`, `Viral Pneumonia`, `Lung_Opacity`.  \n",
        "We'll map them into binary labels: **COVID (1)** vs **non-COVID (0)** (merging others).\n"
      ]
    },
    {
      "cell_type": "code",
      "execution_count": 4,
      "id": "ba743162",
      "metadata": {
        "colab": {
          "base_uri": "https://localhost:8080/"
        },
        "id": "ba743162",
        "outputId": "f32b7d64-4e21-4852-dbf1-8fa18212f382"
      },
      "outputs": [
        {
          "output_type": "stream",
          "name": "stdout",
          "text": [
            "Candidate dataset roots:\n",
            " - /content/data/COVID-19_Radiography_Dataset/COVID-19_Radiography_Dataset\n"
          ]
        }
      ],
      "source": [
        "\n",
        "from pathlib import Path\n",
        "import re\n",
        "\n",
        "def find_candidate_roots(root: Path):\n",
        "    # Many Kaggle zips create nested directories. We'll return directories that contain class subfolders.\n",
        "    candidates = []\n",
        "    for p in root.rglob(\"*\"):\n",
        "        if p.is_dir():\n",
        "            sub = [c.name.lower() for c in p.iterdir() if c.is_dir()]\n",
        "            if any(re.search(r\"covid\", s) for s in sub) and (\n",
        "                \"normal\" in sub or \"viral pneumonia\" in sub or \"lung_opacity\" in sub or \"lung opacity\" in sub\n",
        "            ):\n",
        "                candidates.append(p)\n",
        "    return candidates\n",
        "\n",
        "roots = find_candidate_roots(DATA_ROOT)\n",
        "roots = sorted(set(roots))\n",
        "print(\"Candidate dataset roots:\")\n",
        "for r in roots:\n",
        "    print(\" -\", r)\n"
      ]
    },
    {
      "cell_type": "code",
      "execution_count": 5,
      "id": "7bd4974b",
      "metadata": {
        "colab": {
          "base_uri": "https://localhost:8080/",
          "height": 196
        },
        "id": "7bd4974b",
        "outputId": "d946e516-1d39-486b-c2b0-41c1186630e1"
      },
      "outputs": [
        {
          "output_type": "stream",
          "name": "stdout",
          "text": [
            "Total images found: 21165\n"
          ]
        },
        {
          "output_type": "execute_result",
          "data": {
            "text/plain": [
              "label\n",
              "0    17549\n",
              "1     3616\n",
              "Name: count, dtype: int64"
            ],
            "text/html": [
              "<div>\n",
              "<style scoped>\n",
              "    .dataframe tbody tr th:only-of-type {\n",
              "        vertical-align: middle;\n",
              "    }\n",
              "\n",
              "    .dataframe tbody tr th {\n",
              "        vertical-align: top;\n",
              "    }\n",
              "\n",
              "    .dataframe thead th {\n",
              "        text-align: right;\n",
              "    }\n",
              "</style>\n",
              "<table border=\"1\" class=\"dataframe\">\n",
              "  <thead>\n",
              "    <tr style=\"text-align: right;\">\n",
              "      <th></th>\n",
              "      <th>count</th>\n",
              "    </tr>\n",
              "    <tr>\n",
              "      <th>label</th>\n",
              "      <th></th>\n",
              "    </tr>\n",
              "  </thead>\n",
              "  <tbody>\n",
              "    <tr>\n",
              "      <th>0</th>\n",
              "      <td>17549</td>\n",
              "    </tr>\n",
              "    <tr>\n",
              "      <th>1</th>\n",
              "      <td>3616</td>\n",
              "    </tr>\n",
              "  </tbody>\n",
              "</table>\n",
              "</div><br><label><b>dtype:</b> int64</label>"
            ]
          },
          "metadata": {},
          "execution_count": 5
        }
      ],
      "source": [
        "\n",
        "import pandas as pd\n",
        "\n",
        "COVID_NAMES = [re.compile(r\"covid\", re.I)]\n",
        "NONCOVID_NAMES = [re.compile(r\"normal\", re.I), re.compile(r\"viral\\s*pneumonia\", re.I), re.compile(r\"lung[_\\s]*opacity\", re.I)]\n",
        "\n",
        "def label_from_parent(name: str):\n",
        "    for pat in COVID_NAMES:\n",
        "        if pat.search(name):\n",
        "            return 1\n",
        "    for pat in NONCOVID_NAMES:\n",
        "        if pat.search(name):\n",
        "            return 0\n",
        "    return None\n",
        "\n",
        "def build_filelist(roots):\n",
        "    rows = []\n",
        "    for root in roots:\n",
        "        for cls_dir in root.iterdir():\n",
        "            if not cls_dir.is_dir():\n",
        "                continue\n",
        "            y = label_from_parent(cls_dir.name)\n",
        "            if y is None:\n",
        "                continue\n",
        "            for img in cls_dir.rglob(\"*\"):\n",
        "                if img.suffix.lower() in {\".png\", \".jpg\", \".jpeg\"}:\n",
        "                    rows.append({\"path\": str(img), \"label\": y, \"class_dir\": cls_dir.name})\n",
        "    return pd.DataFrame(rows)\n",
        "\n",
        "df = build_filelist(roots)\n",
        "print(\"Total images found:\", len(df))\n",
        "df['label'].value_counts()\n"
      ]
    },
    {
      "cell_type": "markdown",
      "id": "8d37ee5c",
      "metadata": {
        "id": "8d37ee5c"
      },
      "source": [
        "\n",
        "## 5) Train / Val / Test split\n",
        "\n",
        "We'll do a stratified **70/15/15** split by image (patient-level IDs are not guaranteed in this dataset).  \n",
        "We fix a random seed for reproducibility.\n"
      ]
    },
    {
      "cell_type": "code",
      "execution_count": 6,
      "id": "07715beb",
      "metadata": {
        "colab": {
          "base_uri": "https://localhost:8080/"
        },
        "id": "07715beb",
        "outputId": "c1db9761-89c4-40c8-b7ce-48bb54afbf4a"
      },
      "outputs": [
        {
          "output_type": "stream",
          "name": "stdout",
          "text": [
            "14815 3175 3175\n"
          ]
        },
        {
          "output_type": "execute_result",
          "data": {
            "text/plain": [
              "(label\n",
              " 0    12284\n",
              " 1     2531\n",
              " Name: count, dtype: int64,\n",
              " label\n",
              " 0    2632\n",
              " 1     543\n",
              " Name: count, dtype: int64,\n",
              " label\n",
              " 0    2633\n",
              " 1     542\n",
              " Name: count, dtype: int64)"
            ]
          },
          "metadata": {},
          "execution_count": 6
        }
      ],
      "source": [
        "\n",
        "from sklearn.model_selection import train_test_split\n",
        "import numpy as np\n",
        "\n",
        "SEED = 42\n",
        "df = df.sample(frac=1.0, random_state=SEED).reset_index(drop=True)\n",
        "\n",
        "train_df, temp_df = train_test_split(df, test_size=0.30, stratify=df['label'], random_state=SEED)\n",
        "val_df, test_df = train_test_split(temp_df, test_size=0.50, stratify=temp_df['label'], random_state=SEED)\n",
        "\n",
        "print(len(train_df), len(val_df), len(test_df))\n",
        "train_df['label'].value_counts(), val_df['label'].value_counts(), test_df['label'].value_counts()\n"
      ]
    },
    {
      "cell_type": "markdown",
      "id": "8e9b7d55",
      "metadata": {
        "id": "8e9b7d55"
      },
      "source": [
        "\n",
        "## 6) TensorFlow data pipeline\n",
        "\n",
        "- Resize images to **224×224**.  \n",
        "- Light augmentations: random flip, rotation, zoom, brightness/contrast.  \n",
        "- Batch and prefetch.\n"
      ]
    },
    {
      "cell_type": "code",
      "execution_count": 7,
      "id": "36fcff86",
      "metadata": {
        "colab": {
          "base_uri": "https://localhost:8080/"
        },
        "id": "36fcff86",
        "outputId": "932c24ce-54ba-4c82-e954-c7512a8ed6a0"
      },
      "outputs": [
        {
          "output_type": "execute_result",
          "data": {
            "text/plain": [
              "(926, 199, 199)"
            ]
          },
          "metadata": {},
          "execution_count": 7
        }
      ],
      "source": [
        "\n",
        "import tensorflow as tf\n",
        "\n",
        "IMG_SIZE = (224, 224)\n",
        "BATCH_SIZE = 16\n",
        "AUTOTUNE = 2  # limit parallel calls to avoid host pinned RAM spikes\n",
        "\n",
        "def decode_img(path):\n",
        "    img = tf.io.read_file(path)\n",
        "    img = tf.io.decode_image(img, channels=3, expand_animations=False)\n",
        "    img = tf.image.resize(img, IMG_SIZE, method=\"bilinear\")\n",
        "    return img\n",
        "\n",
        "@tf.function\n",
        "def preprocess_train(path, label):\n",
        "    img = decode_img(path)\n",
        "    img = tf.image.random_flip_left_right(img)\n",
        "    img = tf.image.random_brightness(img, 0.1)\n",
        "    img = tf.image.random_contrast(img, 0.9, 1.1)\n",
        "    img = tf.clip_by_value(img, 0, 255)\n",
        "    return img, tf.cast(label, tf.float32)\n",
        "\n",
        "@tf.function\n",
        "def preprocess_eval(path, label):\n",
        "    img = decode_img(path)\n",
        "    return img, tf.cast(label, tf.float32)\n",
        "\n",
        "def make_ds(paths, labels, training=False):\n",
        "    ds = tf.data.Dataset.from_tensor_slices((paths, labels))\n",
        "    ds = ds.shuffle(1024, seed=SEED, reshuffle_each_iteration=True) if training else ds\n",
        "    ds = ds.map(preprocess_train if training else preprocess_eval, num_parallel_calls=2)\n",
        "    ds = ds.batch(BATCH_SIZE).prefetch(2)\n",
        "    return ds\n",
        "\n",
        "# Build datasets\n",
        "train_ds = make_ds(train_df['path'].values, train_df['label'].values, training=True)\n",
        "val_ds   = make_ds(val_df['path'].values,   val_df['label'].values,   training=False)\n",
        "test_ds  = make_ds(test_df['path'].values,  test_df['label'].values,  training=False)\n",
        "\n",
        "len(list(train_ds)), len(list(val_ds)), len(list(test_ds))\n"
      ]
    },
    {
      "cell_type": "markdown",
      "id": "4e699e85",
      "metadata": {
        "id": "4e699e85"
      },
      "source": [
        "\n",
        "## 7) Model: EfficientNetB0 transfer learning\n",
        "\n",
        "- Base: `tf.keras.applications.EfficientNetB0` (ImageNet weights).  \n",
        "- Head: GlobalAveragePooling → Dropout → Dense(1, sigmoid).  \n",
        "- Optimizer: Adam, initial LR = 1e-4.  \n",
        "- Loss: Binary cross-entropy.  \n",
        "- Metrics: AUC, Precision, Recall, Accuracy.\n"
      ]
    },
    {
      "cell_type": "code",
      "execution_count": 8,
      "id": "15ce2d47",
      "metadata": {
        "colab": {
          "base_uri": "https://localhost:8080/",
          "height": 358
        },
        "id": "15ce2d47",
        "outputId": "e136d8e1-e550-483b-8b2e-15ec96eee25f"
      },
      "outputs": [
        {
          "output_type": "stream",
          "name": "stdout",
          "text": [
            "Downloading data from https://storage.googleapis.com/keras-applications/efficientnetb0_notop.h5\n",
            "\u001b[1m16705208/16705208\u001b[0m \u001b[32m━━━━━━━━━━━━━━━━━━━━\u001b[0m\u001b[37m\u001b[0m \u001b[1m0s\u001b[0m 0us/step\n"
          ]
        },
        {
          "output_type": "display_data",
          "data": {
            "text/plain": [
              "\u001b[1mModel: \"functional\"\u001b[0m\n"
            ],
            "text/html": [
              "<pre style=\"white-space:pre;overflow-x:auto;line-height:normal;font-family:Menlo,'DejaVu Sans Mono',consolas,'Courier New',monospace\"><span style=\"font-weight: bold\">Model: \"functional\"</span>\n",
              "</pre>\n"
            ]
          },
          "metadata": {}
        },
        {
          "output_type": "display_data",
          "data": {
            "text/plain": [
              "┏━━━━━━━━━━━━━━━━━━━━━━━━━━━━━━━━━┳━━━━━━━━━━━━━━━━━━━━━━━━┳━━━━━━━━━━━━━━━┓\n",
              "┃\u001b[1m \u001b[0m\u001b[1mLayer (type)                   \u001b[0m\u001b[1m \u001b[0m┃\u001b[1m \u001b[0m\u001b[1mOutput Shape          \u001b[0m\u001b[1m \u001b[0m┃\u001b[1m \u001b[0m\u001b[1m      Param #\u001b[0m\u001b[1m \u001b[0m┃\n",
              "┡━━━━━━━━━━━━━━━━━━━━━━━━━━━━━━━━━╇━━━━━━━━━━━━━━━━━━━━━━━━╇━━━━━━━━━━━━━━━┩\n",
              "│ input_layer_1 (\u001b[38;5;33mInputLayer\u001b[0m)      │ (\u001b[38;5;45mNone\u001b[0m, \u001b[38;5;34m224\u001b[0m, \u001b[38;5;34m224\u001b[0m, \u001b[38;5;34m3\u001b[0m)    │             \u001b[38;5;34m0\u001b[0m │\n",
              "├─────────────────────────────────┼────────────────────────┼───────────────┤\n",
              "│ efficientnetb0 (\u001b[38;5;33mFunctional\u001b[0m)     │ (\u001b[38;5;45mNone\u001b[0m, \u001b[38;5;34m7\u001b[0m, \u001b[38;5;34m7\u001b[0m, \u001b[38;5;34m1280\u001b[0m)     │     \u001b[38;5;34m4,049,571\u001b[0m │\n",
              "├─────────────────────────────────┼────────────────────────┼───────────────┤\n",
              "│ global_average_pooling2d        │ (\u001b[38;5;45mNone\u001b[0m, \u001b[38;5;34m1280\u001b[0m)           │             \u001b[38;5;34m0\u001b[0m │\n",
              "│ (\u001b[38;5;33mGlobalAveragePooling2D\u001b[0m)        │                        │               │\n",
              "├─────────────────────────────────┼────────────────────────┼───────────────┤\n",
              "│ dropout (\u001b[38;5;33mDropout\u001b[0m)               │ (\u001b[38;5;45mNone\u001b[0m, \u001b[38;5;34m1280\u001b[0m)           │             \u001b[38;5;34m0\u001b[0m │\n",
              "├─────────────────────────────────┼────────────────────────┼───────────────┤\n",
              "│ dense (\u001b[38;5;33mDense\u001b[0m)                   │ (\u001b[38;5;45mNone\u001b[0m, \u001b[38;5;34m1\u001b[0m)              │         \u001b[38;5;34m1,281\u001b[0m │\n",
              "└─────────────────────────────────┴────────────────────────┴───────────────┘\n"
            ],
            "text/html": [
              "<pre style=\"white-space:pre;overflow-x:auto;line-height:normal;font-family:Menlo,'DejaVu Sans Mono',consolas,'Courier New',monospace\">┏━━━━━━━━━━━━━━━━━━━━━━━━━━━━━━━━━┳━━━━━━━━━━━━━━━━━━━━━━━━┳━━━━━━━━━━━━━━━┓\n",
              "┃<span style=\"font-weight: bold\"> Layer (type)                    </span>┃<span style=\"font-weight: bold\"> Output Shape           </span>┃<span style=\"font-weight: bold\">       Param # </span>┃\n",
              "┡━━━━━━━━━━━━━━━━━━━━━━━━━━━━━━━━━╇━━━━━━━━━━━━━━━━━━━━━━━━╇━━━━━━━━━━━━━━━┩\n",
              "│ input_layer_1 (<span style=\"color: #0087ff; text-decoration-color: #0087ff\">InputLayer</span>)      │ (<span style=\"color: #00d7ff; text-decoration-color: #00d7ff\">None</span>, <span style=\"color: #00af00; text-decoration-color: #00af00\">224</span>, <span style=\"color: #00af00; text-decoration-color: #00af00\">224</span>, <span style=\"color: #00af00; text-decoration-color: #00af00\">3</span>)    │             <span style=\"color: #00af00; text-decoration-color: #00af00\">0</span> │\n",
              "├─────────────────────────────────┼────────────────────────┼───────────────┤\n",
              "│ efficientnetb0 (<span style=\"color: #0087ff; text-decoration-color: #0087ff\">Functional</span>)     │ (<span style=\"color: #00d7ff; text-decoration-color: #00d7ff\">None</span>, <span style=\"color: #00af00; text-decoration-color: #00af00\">7</span>, <span style=\"color: #00af00; text-decoration-color: #00af00\">7</span>, <span style=\"color: #00af00; text-decoration-color: #00af00\">1280</span>)     │     <span style=\"color: #00af00; text-decoration-color: #00af00\">4,049,571</span> │\n",
              "├─────────────────────────────────┼────────────────────────┼───────────────┤\n",
              "│ global_average_pooling2d        │ (<span style=\"color: #00d7ff; text-decoration-color: #00d7ff\">None</span>, <span style=\"color: #00af00; text-decoration-color: #00af00\">1280</span>)           │             <span style=\"color: #00af00; text-decoration-color: #00af00\">0</span> │\n",
              "│ (<span style=\"color: #0087ff; text-decoration-color: #0087ff\">GlobalAveragePooling2D</span>)        │                        │               │\n",
              "├─────────────────────────────────┼────────────────────────┼───────────────┤\n",
              "│ dropout (<span style=\"color: #0087ff; text-decoration-color: #0087ff\">Dropout</span>)               │ (<span style=\"color: #00d7ff; text-decoration-color: #00d7ff\">None</span>, <span style=\"color: #00af00; text-decoration-color: #00af00\">1280</span>)           │             <span style=\"color: #00af00; text-decoration-color: #00af00\">0</span> │\n",
              "├─────────────────────────────────┼────────────────────────┼───────────────┤\n",
              "│ dense (<span style=\"color: #0087ff; text-decoration-color: #0087ff\">Dense</span>)                   │ (<span style=\"color: #00d7ff; text-decoration-color: #00d7ff\">None</span>, <span style=\"color: #00af00; text-decoration-color: #00af00\">1</span>)              │         <span style=\"color: #00af00; text-decoration-color: #00af00\">1,281</span> │\n",
              "└─────────────────────────────────┴────────────────────────┴───────────────┘\n",
              "</pre>\n"
            ]
          },
          "metadata": {}
        },
        {
          "output_type": "display_data",
          "data": {
            "text/plain": [
              "\u001b[1m Total params: \u001b[0m\u001b[38;5;34m4,050,852\u001b[0m (15.45 MB)\n"
            ],
            "text/html": [
              "<pre style=\"white-space:pre;overflow-x:auto;line-height:normal;font-family:Menlo,'DejaVu Sans Mono',consolas,'Courier New',monospace\"><span style=\"font-weight: bold\"> Total params: </span><span style=\"color: #00af00; text-decoration-color: #00af00\">4,050,852</span> (15.45 MB)\n",
              "</pre>\n"
            ]
          },
          "metadata": {}
        },
        {
          "output_type": "display_data",
          "data": {
            "text/plain": [
              "\u001b[1m Trainable params: \u001b[0m\u001b[38;5;34m1,281\u001b[0m (5.00 KB)\n"
            ],
            "text/html": [
              "<pre style=\"white-space:pre;overflow-x:auto;line-height:normal;font-family:Menlo,'DejaVu Sans Mono',consolas,'Courier New',monospace\"><span style=\"font-weight: bold\"> Trainable params: </span><span style=\"color: #00af00; text-decoration-color: #00af00\">1,281</span> (5.00 KB)\n",
              "</pre>\n"
            ]
          },
          "metadata": {}
        },
        {
          "output_type": "display_data",
          "data": {
            "text/plain": [
              "\u001b[1m Non-trainable params: \u001b[0m\u001b[38;5;34m4,049,571\u001b[0m (15.45 MB)\n"
            ],
            "text/html": [
              "<pre style=\"white-space:pre;overflow-x:auto;line-height:normal;font-family:Menlo,'DejaVu Sans Mono',consolas,'Courier New',monospace\"><span style=\"font-weight: bold\"> Non-trainable params: </span><span style=\"color: #00af00; text-decoration-color: #00af00\">4,049,571</span> (15.45 MB)\n",
              "</pre>\n"
            ]
          },
          "metadata": {}
        }
      ],
      "source": [
        "\n",
        "from tensorflow.keras import layers, models\n",
        "\n",
        "base = tf.keras.applications.EfficientNetB0(include_top=False, input_shape=IMG_SIZE + (3,), weights='imagenet')\n",
        "base.trainable = False  # first stage: freeze\n",
        "\n",
        "inputs = layers.Input(shape=IMG_SIZE + (3,))\n",
        "x = tf.keras.applications.efficientnet.preprocess_input(inputs)\n",
        "x = base(x, training=False)\n",
        "x = layers.GlobalAveragePooling2D()(x)\n",
        "x = layers.Dropout(0.2)(x)\n",
        "outputs = layers.Dense(1, activation='sigmoid')(x)\n",
        "model = models.Model(inputs, outputs)\n",
        "model.compile(optimizer=tf.keras.optimizers.Adam(1e-4),\n",
        "              loss='binary_crossentropy',\n",
        "              metrics=[tf.keras.metrics.AUC(name='auc'),\n",
        "                       tf.keras.metrics.Precision(name='precision'),\n",
        "                       tf.keras.metrics.Recall(name='recall'),\n",
        "                       'accuracy'])\n",
        "model.summary()\n"
      ]
    },
    {
      "cell_type": "markdown",
      "id": "05e55a35",
      "metadata": {
        "id": "05e55a35"
      },
      "source": [
        "\n",
        "### Train (stage 1: frozen base)\n"
      ]
    },
    {
      "cell_type": "code",
      "execution_count": 9,
      "id": "c81f6ee6",
      "metadata": {
        "colab": {
          "base_uri": "https://localhost:8080/"
        },
        "id": "c81f6ee6",
        "outputId": "8b999199-6451-4ac9-ce8c-4a2b15370c23"
      },
      "outputs": [
        {
          "output_type": "stream",
          "name": "stdout",
          "text": [
            "Epoch 1/8\n",
            "\u001b[1m926/926\u001b[0m \u001b[32m━━━━━━━━━━━━━━━━━━━━\u001b[0m\u001b[37m\u001b[0m \u001b[1m0s\u001b[0m 945ms/step - accuracy: 0.7487 - auc: 0.6138 - loss: 0.5039 - precision: 0.1734 - recall: 0.1159\n",
            "Epoch 1: val_auc improved from -inf to 0.87158, saving model to /content/best_model_stage1.keras\n",
            "\u001b[1m926/926\u001b[0m \u001b[32m━━━━━━━━━━━━━━━━━━━━\u001b[0m\u001b[37m\u001b[0m \u001b[1m1095s\u001b[0m 1s/step - accuracy: 0.7488 - auc: 0.6139 - loss: 0.5039 - precision: 0.1736 - recall: 0.1158 - val_accuracy: 0.8447 - val_auc: 0.8716 - val_loss: 0.3462 - val_precision: 0.9464 - val_recall: 0.0976\n",
            "Epoch 2/8\n",
            "\u001b[1m926/926\u001b[0m \u001b[32m━━━━━━━━━━━━━━━━━━━━\u001b[0m\u001b[37m\u001b[0m \u001b[1m0s\u001b[0m 938ms/step - accuracy: 0.8580 - auc: 0.8521 - loss: 0.3387 - precision: 0.8975 - recall: 0.1696\n",
            "Epoch 2: val_auc improved from 0.87158 to 0.90210, saving model to /content/best_model_stage1.keras\n",
            "\u001b[1m926/926\u001b[0m \u001b[32m━━━━━━━━━━━━━━━━━━━━\u001b[0m\u001b[37m\u001b[0m \u001b[1m1091s\u001b[0m 1s/step - accuracy: 0.8580 - auc: 0.8522 - loss: 0.3387 - precision: 0.8974 - recall: 0.1696 - val_accuracy: 0.8756 - val_auc: 0.9021 - val_loss: 0.2981 - val_precision: 0.8854 - val_recall: 0.3131\n",
            "Epoch 3/8\n",
            "\u001b[1m926/926\u001b[0m \u001b[32m━━━━━━━━━━━━━━━━━━━━\u001b[0m\u001b[37m\u001b[0m \u001b[1m0s\u001b[0m 900ms/step - accuracy: 0.8759 - auc: 0.8871 - loss: 0.3002 - precision: 0.8637 - recall: 0.2945\n",
            "Epoch 3: val_auc improved from 0.90210 to 0.91924, saving model to /content/best_model_stage1.keras\n",
            "\u001b[1m926/926\u001b[0m \u001b[32m━━━━━━━━━━━━━━━━━━━━\u001b[0m\u001b[37m\u001b[0m \u001b[1m1042s\u001b[0m 1s/step - accuracy: 0.8759 - auc: 0.8872 - loss: 0.3002 - precision: 0.8637 - recall: 0.2946 - val_accuracy: 0.8986 - val_auc: 0.9192 - val_loss: 0.2718 - val_precision: 0.8746 - val_recall: 0.4751\n",
            "Epoch 4/8\n",
            "\u001b[1m926/926\u001b[0m \u001b[32m━━━━━━━━━━━━━━━━━━━━\u001b[0m\u001b[37m\u001b[0m \u001b[1m0s\u001b[0m 943ms/step - accuracy: 0.8907 - auc: 0.9064 - loss: 0.2758 - precision: 0.8736 - recall: 0.3996\n",
            "Epoch 4: val_auc improved from 0.91924 to 0.93074, saving model to /content/best_model_stage1.keras\n",
            "\u001b[1m926/926\u001b[0m \u001b[32m━━━━━━━━━━━━━━━━━━━━\u001b[0m\u001b[37m\u001b[0m \u001b[1m1054s\u001b[0m 1s/step - accuracy: 0.8907 - auc: 0.9064 - loss: 0.2758 - precision: 0.8736 - recall: 0.3997 - val_accuracy: 0.9039 - val_auc: 0.9307 - val_loss: 0.2521 - val_precision: 0.8790 - val_recall: 0.5083\n",
            "Epoch 5/8\n",
            "\u001b[1m926/926\u001b[0m \u001b[32m━━━━━━━━━━━━━━━━━━━━\u001b[0m\u001b[37m\u001b[0m \u001b[1m0s\u001b[0m 922ms/step - accuracy: 0.8992 - auc: 0.9190 - loss: 0.2586 - precision: 0.8773 - recall: 0.4653\n",
            "Epoch 5: val_auc improved from 0.93074 to 0.93872, saving model to /content/best_model_stage1.keras\n",
            "\u001b[1m926/926\u001b[0m \u001b[32m━━━━━━━━━━━━━━━━━━━━\u001b[0m\u001b[37m\u001b[0m \u001b[1m1086s\u001b[0m 1s/step - accuracy: 0.8992 - auc: 0.9190 - loss: 0.2586 - precision: 0.8773 - recall: 0.4653 - val_accuracy: 0.9087 - val_auc: 0.9387 - val_loss: 0.2378 - val_precision: 0.8916 - val_recall: 0.5304\n",
            "Epoch 6/8\n",
            "\u001b[1m926/926\u001b[0m \u001b[32m━━━━━━━━━━━━━━━━━━━━\u001b[0m\u001b[37m\u001b[0m \u001b[1m0s\u001b[0m 946ms/step - accuracy: 0.9036 - auc: 0.9286 - loss: 0.2465 - precision: 0.8707 - recall: 0.4974\n",
            "Epoch 6: val_auc improved from 0.93872 to 0.94515, saving model to /content/best_model_stage1.keras\n",
            "\u001b[1m926/926\u001b[0m \u001b[32m━━━━━━━━━━━━━━━━━━━━\u001b[0m\u001b[37m\u001b[0m \u001b[1m1056s\u001b[0m 1s/step - accuracy: 0.9036 - auc: 0.9286 - loss: 0.2465 - precision: 0.8707 - recall: 0.4974 - val_accuracy: 0.9178 - val_auc: 0.9451 - val_loss: 0.2263 - val_precision: 0.8961 - val_recall: 0.5875\n",
            "Epoch 7/8\n",
            "\u001b[1m926/926\u001b[0m \u001b[32m━━━━━━━━━━━━━━━━━━━━\u001b[0m\u001b[37m\u001b[0m \u001b[1m0s\u001b[0m 925ms/step - accuracy: 0.9086 - auc: 0.9376 - loss: 0.2327 - precision: 0.8807 - recall: 0.5226\n",
            "Epoch 7: val_auc improved from 0.94515 to 0.94994, saving model to /content/best_model_stage1.keras\n",
            "\u001b[1m926/926\u001b[0m \u001b[32m━━━━━━━━━━━━━━━━━━━━\u001b[0m\u001b[37m\u001b[0m \u001b[1m1036s\u001b[0m 1s/step - accuracy: 0.9086 - auc: 0.9376 - loss: 0.2327 - precision: 0.8807 - recall: 0.5226 - val_accuracy: 0.9206 - val_auc: 0.9499 - val_loss: 0.2165 - val_precision: 0.8965 - val_recall: 0.6059\n",
            "Epoch 8/8\n",
            "\u001b[1m926/926\u001b[0m \u001b[32m━━━━━━━━━━━━━━━━━━━━\u001b[0m\u001b[37m\u001b[0m \u001b[1m0s\u001b[0m 934ms/step - accuracy: 0.9155 - auc: 0.9413 - loss: 0.2247 - precision: 0.8876 - recall: 0.5635\n",
            "Epoch 8: val_auc improved from 0.94994 to 0.95399, saving model to /content/best_model_stage1.keras\n",
            "\u001b[1m926/926\u001b[0m \u001b[32m━━━━━━━━━━━━━━━━━━━━\u001b[0m\u001b[37m\u001b[0m \u001b[1m1074s\u001b[0m 1s/step - accuracy: 0.9155 - auc: 0.9413 - loss: 0.2247 - precision: 0.8876 - recall: 0.5635 - val_accuracy: 0.9247 - val_auc: 0.9540 - val_loss: 0.2086 - val_precision: 0.8938 - val_recall: 0.6354\n"
          ]
        }
      ],
      "source": [
        "\n",
        "ckpt_path = \"/content/best_model_stage1.keras\"\n",
        "callbacks = [\n",
        "    tf.keras.callbacks.ModelCheckpoint(ckpt_path, monitor='val_auc', mode='max', save_best_only=True, verbose=1),\n",
        "    tf.keras.callbacks.EarlyStopping(monitor='val_auc', mode='max', patience=3, restore_best_weights=True)\n",
        "]\n",
        "\n",
        "history1 = model.fit(train_ds, validation_data=val_ds, epochs=8, callbacks=callbacks)\n"
      ]
    },
    {
      "cell_type": "markdown",
      "id": "48128b2d",
      "metadata": {
        "id": "48128b2d"
      },
      "source": [
        "\n",
        "### Fine-tune (stage 2: unfreeze last blocks)\n",
        "\n",
        "We unfreeze the top layers of EfficientNetB0 and continue training with a lower LR.\n"
      ]
    },
    {
      "cell_type": "code",
      "execution_count": 10,
      "id": "1842fcc4",
      "metadata": {
        "colab": {
          "base_uri": "https://localhost:8080/"
        },
        "id": "1842fcc4",
        "outputId": "174ce6d9-42ff-4fbd-9b5b-adfe32eecb3d"
      },
      "outputs": [
        {
          "output_type": "stream",
          "name": "stdout",
          "text": [
            "Epoch 1/10\n",
            "\u001b[1m926/926\u001b[0m \u001b[32m━━━━━━━━━━━━━━━━━━━━\u001b[0m\u001b[37m\u001b[0m \u001b[1m0s\u001b[0m 1s/step - accuracy: 0.9325 - auc: 0.9600 - loss: 0.1814 - precision: 0.8814 - recall: 0.6829\n",
            "Epoch 1: val_auc improved from -inf to 0.98453, saving model to /content/best_model_stage2.keras\n",
            "\u001b[1m926/926\u001b[0m \u001b[32m━━━━━━━━━━━━━━━━━━━━\u001b[0m\u001b[37m\u001b[0m \u001b[1m1387s\u001b[0m 1s/step - accuracy: 0.9325 - auc: 0.9600 - loss: 0.1814 - precision: 0.8814 - recall: 0.6830 - val_accuracy: 0.9594 - val_auc: 0.9845 - val_loss: 0.1128 - val_precision: 0.9190 - val_recall: 0.8361 - learning_rate: 1.0000e-05\n",
            "Epoch 2/10\n",
            "\u001b[1m926/926\u001b[0m \u001b[32m━━━━━━━━━━━━━━━━━━━━\u001b[0m\u001b[37m\u001b[0m \u001b[1m0s\u001b[0m 1s/step - accuracy: 0.9576 - auc: 0.9821 - loss: 0.1174 - precision: 0.9157 - recall: 0.8172\n",
            "Epoch 2: val_auc improved from 0.98453 to 0.99086, saving model to /content/best_model_stage2.keras\n",
            "\u001b[1m926/926\u001b[0m \u001b[32m━━━━━━━━━━━━━━━━━━━━\u001b[0m\u001b[37m\u001b[0m \u001b[1m1397s\u001b[0m 1s/step - accuracy: 0.9576 - auc: 0.9821 - loss: 0.1174 - precision: 0.9157 - recall: 0.8172 - val_accuracy: 0.9710 - val_auc: 0.9909 - val_loss: 0.0833 - val_precision: 0.9328 - val_recall: 0.8950 - learning_rate: 1.0000e-05\n",
            "Epoch 3/10\n",
            "\u001b[1m926/926\u001b[0m \u001b[32m━━━━━━━━━━━━━━━━━━━━\u001b[0m\u001b[37m\u001b[0m \u001b[1m0s\u001b[0m 1s/step - accuracy: 0.9686 - auc: 0.9892 - loss: 0.0900 - precision: 0.9358 - recall: 0.8740\n",
            "Epoch 3: val_auc improved from 0.99086 to 0.99385, saving model to /content/best_model_stage2.keras\n",
            "\u001b[1m926/926\u001b[0m \u001b[32m━━━━━━━━━━━━━━━━━━━━\u001b[0m\u001b[37m\u001b[0m \u001b[1m1383s\u001b[0m 1s/step - accuracy: 0.9686 - auc: 0.9892 - loss: 0.0900 - precision: 0.9358 - recall: 0.8740 - val_accuracy: 0.9717 - val_auc: 0.9938 - val_loss: 0.0833 - val_precision: 0.8898 - val_recall: 0.9521 - learning_rate: 1.0000e-05\n",
            "Epoch 4/10\n",
            "\u001b[1m926/926\u001b[0m \u001b[32m━━━━━━━━━━━━━━━━━━━━\u001b[0m\u001b[37m\u001b[0m \u001b[1m0s\u001b[0m 1s/step - accuracy: 0.9741 - auc: 0.9931 - loss: 0.0732 - precision: 0.9483 - recall: 0.8903\n",
            "Epoch 4: val_auc improved from 0.99385 to 0.99467, saving model to /content/best_model_stage2.keras\n",
            "\u001b[1m926/926\u001b[0m \u001b[32m━━━━━━━━━━━━━━━━━━━━\u001b[0m\u001b[37m\u001b[0m \u001b[1m1379s\u001b[0m 1s/step - accuracy: 0.9741 - auc: 0.9931 - loss: 0.0732 - precision: 0.9483 - recall: 0.8903 - val_accuracy: 0.9795 - val_auc: 0.9947 - val_loss: 0.0611 - val_precision: 0.9238 - val_recall: 0.9595 - learning_rate: 1.0000e-05\n",
            "Epoch 5/10\n",
            "\u001b[1m926/926\u001b[0m \u001b[32m━━━━━━━━━━━━━━━━━━━━\u001b[0m\u001b[37m\u001b[0m \u001b[1m0s\u001b[0m 1s/step - accuracy: 0.9799 - auc: 0.9961 - loss: 0.0566 - precision: 0.9544 - recall: 0.9230\n",
            "Epoch 5: val_auc improved from 0.99467 to 0.99532, saving model to /content/best_model_stage2.keras\n",
            "\u001b[1m926/926\u001b[0m \u001b[32m━━━━━━━━━━━━━━━━━━━━\u001b[0m\u001b[37m\u001b[0m \u001b[1m1385s\u001b[0m 1s/step - accuracy: 0.9799 - auc: 0.9961 - loss: 0.0566 - precision: 0.9544 - recall: 0.9230 - val_accuracy: 0.9820 - val_auc: 0.9953 - val_loss: 0.0502 - val_precision: 0.9534 - val_recall: 0.9411 - learning_rate: 1.0000e-05\n",
            "Epoch 6/10\n",
            "\u001b[1m926/926\u001b[0m \u001b[32m━━━━━━━━━━━━━━━━━━━━\u001b[0m\u001b[37m\u001b[0m \u001b[1m0s\u001b[0m 1s/step - accuracy: 0.9858 - auc: 0.9970 - loss: 0.0450 - precision: 0.9687 - recall: 0.9445\n",
            "Epoch 6: val_auc improved from 0.99532 to 0.99567, saving model to /content/best_model_stage2.keras\n",
            "\u001b[1m926/926\u001b[0m \u001b[32m━━━━━━━━━━━━━━━━━━━━\u001b[0m\u001b[37m\u001b[0m \u001b[1m1419s\u001b[0m 1s/step - accuracy: 0.9858 - auc: 0.9970 - loss: 0.0450 - precision: 0.9687 - recall: 0.9445 - val_accuracy: 0.9839 - val_auc: 0.9957 - val_loss: 0.0460 - val_precision: 0.9572 - val_recall: 0.9484 - learning_rate: 1.0000e-05\n",
            "Epoch 7/10\n",
            "\u001b[1m926/926\u001b[0m \u001b[32m━━━━━━━━━━━━━━━━━━━━\u001b[0m\u001b[37m\u001b[0m \u001b[1m0s\u001b[0m 1s/step - accuracy: 0.9869 - auc: 0.9982 - loss: 0.0384 - precision: 0.9688 - recall: 0.9524\n",
            "Epoch 7: val_auc improved from 0.99567 to 0.99605, saving model to /content/best_model_stage2.keras\n",
            "\u001b[1m926/926\u001b[0m \u001b[32m━━━━━━━━━━━━━━━━━━━━\u001b[0m\u001b[37m\u001b[0m \u001b[1m1389s\u001b[0m 1s/step - accuracy: 0.9869 - auc: 0.9982 - loss: 0.0384 - precision: 0.9688 - recall: 0.9524 - val_accuracy: 0.9852 - val_auc: 0.9960 - val_loss: 0.0445 - val_precision: 0.9509 - val_recall: 0.9632 - learning_rate: 1.0000e-05\n",
            "Epoch 8/10\n",
            "\u001b[1m926/926\u001b[0m \u001b[32m━━━━━━━━━━━━━━━━━━━━\u001b[0m\u001b[37m\u001b[0m \u001b[1m0s\u001b[0m 1s/step - accuracy: 0.9870 - auc: 0.9983 - loss: 0.0358 - precision: 0.9706 - recall: 0.9506\n",
            "Epoch 8: val_auc improved from 0.99605 to 0.99607, saving model to /content/best_model_stage2.keras\n",
            "\u001b[1m926/926\u001b[0m \u001b[32m━━━━━━━━━━━━━━━━━━━━\u001b[0m\u001b[37m\u001b[0m \u001b[1m1419s\u001b[0m 1s/step - accuracy: 0.9870 - auc: 0.9983 - loss: 0.0358 - precision: 0.9706 - recall: 0.9506 - val_accuracy: 0.9868 - val_auc: 0.9961 - val_loss: 0.0430 - val_precision: 0.9665 - val_recall: 0.9558 - learning_rate: 1.0000e-05\n",
            "Epoch 9/10\n",
            "\u001b[1m926/926\u001b[0m \u001b[32m━━━━━━━━━━━━━━━━━━━━\u001b[0m\u001b[37m\u001b[0m \u001b[1m0s\u001b[0m 1s/step - accuracy: 0.9892 - auc: 0.9989 - loss: 0.0291 - precision: 0.9763 - recall: 0.9592\n",
            "Epoch 9: val_auc did not improve from 0.99607\n",
            "\n",
            "Epoch 9: ReduceLROnPlateau reducing learning rate to 4.999999873689376e-06.\n",
            "\u001b[1m926/926\u001b[0m \u001b[32m━━━━━━━━━━━━━━━━━━━━\u001b[0m\u001b[37m\u001b[0m \u001b[1m1386s\u001b[0m 1s/step - accuracy: 0.9892 - auc: 0.9989 - loss: 0.0291 - precision: 0.9763 - recall: 0.9592 - val_accuracy: 0.9855 - val_auc: 0.9915 - val_loss: 0.0484 - val_precision: 0.9788 - val_recall: 0.9355 - learning_rate: 1.0000e-05\n",
            "Epoch 10/10\n",
            "\u001b[1m926/926\u001b[0m \u001b[32m━━━━━━━━━━━━━━━━━━━━\u001b[0m\u001b[37m\u001b[0m \u001b[1m0s\u001b[0m 1s/step - accuracy: 0.9926 - auc: 0.9987 - loss: 0.0242 - precision: 0.9844 - recall: 0.9711\n",
            "Epoch 10: val_auc did not improve from 0.99607\n",
            "\u001b[1m926/926\u001b[0m \u001b[32m━━━━━━━━━━━━━━━━━━━━\u001b[0m\u001b[37m\u001b[0m \u001b[1m1378s\u001b[0m 1s/step - accuracy: 0.9926 - auc: 0.9987 - loss: 0.0242 - precision: 0.9844 - recall: 0.9711 - val_accuracy: 0.9861 - val_auc: 0.9923 - val_loss: 0.0438 - val_precision: 0.9771 - val_recall: 0.9411 - learning_rate: 5.0000e-06\n"
          ]
        }
      ],
      "source": [
        "\n",
        "# Unfreeze last ~30% of layers\n",
        "n_unfreeze = int(len(base.layers) * 0.3)\n",
        "for layer in base.layers[-n_unfreeze:]:\n",
        "    if not isinstance(layer, layers.BatchNormalization):\n",
        "        layer.trainable = True\n",
        "\n",
        "model.compile(optimizer=tf.keras.optimizers.Adam(1e-5),\n",
        "              loss='binary_crossentropy',\n",
        "              metrics=[tf.keras.metrics.AUC(name='auc'),\n",
        "                       tf.keras.metrics.Precision(name='precision'),\n",
        "                       tf.keras.metrics.Recall(name='recall'),\n",
        "                       'accuracy'])\n",
        "\n",
        "ckpt_path2 = \"/content/best_model_stage2.keras\"\n",
        "callbacks2 = [\n",
        "    tf.keras.callbacks.ModelCheckpoint(ckpt_path2, monitor='val_auc', mode='max', save_best_only=True, verbose=1),\n",
        "    tf.keras.callbacks.EarlyStopping(monitor='val_auc', mode='max', patience=3, restore_best_weights=True),\n",
        "    tf.keras.callbacks.ReduceLROnPlateau(monitor='val_auc', mode='max', factor=0.5, patience=2, verbose=1, min_lr=1e-6)\n",
        "]\n",
        "\n",
        "history2 = model.fit(train_ds, validation_data=val_ds, epochs=10, callbacks=callbacks2)\n"
      ]
    },
    {
      "cell_type": "markdown",
      "id": "a178d6fa",
      "metadata": {
        "id": "a178d6fa"
      },
      "source": [
        "\n",
        "## 8) Evaluation: accuracy, sensitivity, specificity + threshold tuning\n",
        "\n",
        "- Compute predictions on **val** to pick an operating threshold (Youden's J).  \n",
        "- Evaluate on **test** using that threshold.  \n",
        "- Plot ROC and PR curves; show confusion matrix.\n"
      ]
    },
    {
      "cell_type": "code",
      "execution_count": 11,
      "id": "d11fc2c2",
      "metadata": {
        "colab": {
          "base_uri": "https://localhost:8080/"
        },
        "id": "d11fc2c2",
        "outputId": "537b155a-5571-4c4f-cd4f-07bd09d85064"
      },
      "outputs": [
        {
          "output_type": "stream",
          "name": "stdout",
          "text": [
            "Best threshold on VAL (Youden J): 0.2468 | AUC=0.9967\n"
          ]
        }
      ],
      "source": [
        "\n",
        "import numpy as np\n",
        "from sklearn.metrics import roc_curve, roc_auc_score, precision_recall_curve, confusion_matrix, classification_report\n",
        "\n",
        "def get_preds(ds):\n",
        "    y_true = []\n",
        "    y_scores = []\n",
        "    for batch_x, batch_y in ds:\n",
        "        p = model.predict(batch_x, verbose=0).reshape(-1)\n",
        "        y_scores.extend(p.tolist())\n",
        "        y_true.extend(batch_y.numpy().tolist())\n",
        "    return np.array(y_true), np.array(y_scores)\n",
        "\n",
        "y_val, s_val = get_preds(val_ds)\n",
        "\n",
        "# Threshold by Youden's J statistic (TPR - FPR)\n",
        "fpr, tpr, thr = roc_curve(y_val, s_val)\n",
        "j_scores = tpr - fpr\n",
        "best_idx = int(np.argmax(j_scores))\n",
        "best_thr = thr[best_idx]\n",
        "val_auc = roc_auc_score(y_val, s_val)\n",
        "print(f\"Best threshold on VAL (Youden J): {best_thr:.4f} | AUC={val_auc:.4f}\")\n"
      ]
    },
    {
      "cell_type": "code",
      "source": [
        "# --- TEST vertinimas su VAL slenksčiu (best_thr) ---\n",
        "y_test, s_test = get_preds(test_ds)\n",
        "\n",
        "import numpy as np\n",
        "from sklearn.metrics import confusion_matrix, classification_report, roc_auc_score\n",
        "\n",
        "y_pred_bin = (s_test >= best_thr).astype(int)\n",
        "cm = confusion_matrix(y_test, y_pred_bin)\n",
        "tn, fp, fn, tp = cm.ravel()\n",
        "acc = (tp + tn) / cm.sum()\n",
        "sensitivity = tp / (tp + fn) if (tp + fn) > 0 else 0.0\n",
        "specificity = tn / (tn + fp) if (tn + fp) > 0 else 0.0\n",
        "test_auc = roc_auc_score(y_test, s_test)\n",
        "\n",
        "print(\"Confusion matrix:\")\n",
        "print(cm)\n",
        "print(f\"Accuracy: {acc:.3f}\")\n",
        "print(f\"Sensitivity (Recall for COVID): {sensitivity:.3f}\")\n",
        "print(f\"Specificity (TNR for non-COVID): {specificity:.3f}\")\n",
        "print(f\"ROC-AUC: {test_auc:.3f}\")\n",
        "\n",
        "# Paprastas CM braižymas\n",
        "import matplotlib.pyplot as plt\n",
        "plt.figure()\n",
        "plt.imshow(cm, interpolation='nearest')\n",
        "plt.title('Confusion Matrix (Test)')\n",
        "plt.xticks([0,1], ['non-COVID','COVID'])\n",
        "plt.yticks([0,1], ['non-COVID','COVID'])\n",
        "for (i, j), v in np.ndenumerate(cm):\n",
        "    plt.text(j, i, str(v), ha='center', va='center')\n",
        "plt.xlabel('Predicted'); plt.ylabel('True')\n",
        "plt.show()\n"
      ],
      "metadata": {
        "colab": {
          "base_uri": "https://localhost:8080/",
          "height": 594
        },
        "id": "Lk6GwF4SKyhB",
        "outputId": "3c14286d-30a4-4ed7-dcad-da167a1a34ad"
      },
      "id": "Lk6GwF4SKyhB",
      "execution_count": 16,
      "outputs": [
        {
          "output_type": "stream",
          "name": "stdout",
          "text": [
            "Confusion matrix:\n",
            "[[2611   22]\n",
            " [  14  528]]\n",
            "Accuracy: 0.989\n",
            "Sensitivity (Recall for COVID): 0.974\n",
            "Specificity (TNR for non-COVID): 0.992\n",
            "ROC-AUC: 0.998\n"
          ]
        },
        {
          "output_type": "display_data",
          "data": {
            "text/plain": [
              "<Figure size 640x480 with 1 Axes>"
            ],
            "image/png": "[encoded data removed]"
          },
          "metadata": {}
        }
      ]
    },
    {
      "cell_type": "code",
      "execution_count": 12,
      "id": "a9d43e1c",
      "metadata": {
        "colab": {
          "base_uri": "https://localhost:8080/",
          "height": 927
        },
        "id": "a9d43e1c",
        "outputId": "c891dac6-f6a6-4056-a404-e0def1ec9e8b"
      },
      "outputs": [
        {
          "output_type": "display_data",
          "data": {
            "text/plain": [
              "<Figure size 640x480 with 1 Axes>"
            ],
            "image/png": "[encoded data removed]"
          },
          "metadata": {}
        },
        {
          "output_type": "display_data",
          "data": {
            "text/plain": [
              "<Figure size 640x480 with 1 Axes>"
            ],
            "image/png": "[encoded data removed]"
          },
          "metadata": {}
        }
      ],
      "source": [
        "\n",
        "import matplotlib.pyplot as plt\n",
        "\n",
        "# ROC curve\n",
        "fpr, tpr, thr = roc_curve(y_val, s_val)\n",
        "plt.figure()\n",
        "plt.plot(fpr, tpr, label=f'ROC (AUC={roc_auc_score(y_val, s_val):.3f})')\n",
        "plt.plot([0,1],[0,1],'--')\n",
        "plt.xlabel('False Positive Rate')\n",
        "plt.ylabel('True Positive Rate')\n",
        "plt.title('Validation ROC')\n",
        "plt.legend(loc='lower right')\n",
        "plt.show()\n",
        "\n",
        "# PR curve\n",
        "prec, rec, thr_pr = precision_recall_curve(y_val, s_val)\n",
        "plt.figure()\n",
        "plt.plot(rec, prec)\n",
        "plt.xlabel('Recall')\n",
        "plt.ylabel('Precision')\n",
        "plt.title('Validation Precision-Recall')\n",
        "plt.show()\n"
      ]
    },
    {
      "cell_type": "code",
      "execution_count": 17,
      "id": "f3ca31c6",
      "metadata": {
        "colab": {
          "base_uri": "https://localhost:8080/"
        },
        "id": "f3ca31c6",
        "outputId": "31f9f58f-9fbd-478f-a25d-593f502ec940"
      },
      "outputs": [
        {
          "output_type": "stream",
          "name": "stdout",
          "text": [
            "Confusion matrix:\n",
            "[[2611   22]\n",
            " [  14  528]]\n",
            "Accuracy: 0.989\n",
            "Sensitivity (Recall for COVID): 0.974\n",
            "Specificity (TNR for non-COVID): 0.992\n",
            "ROC-AUC: 0.998\n",
            "Classification report:\n",
            "              precision    recall  f1-score   support\n",
            "\n",
            "   non-COVID       0.99      0.99      0.99      2633\n",
            "       COVID       0.96      0.97      0.97       542\n",
            "\n",
            "    accuracy                           0.99      3175\n",
            "   macro avg       0.98      0.98      0.98      3175\n",
            "weighted avg       0.99      0.99      0.99      3175\n",
            "\n"
          ]
        }
      ],
      "source": [
        "# Confusion matrix + metrikos (pakeisk savo blogą bloką šiuo)\n",
        "print(\"Confusion matrix:\")\n",
        "print(cm)\n",
        "\n",
        "print(f\"Accuracy: {acc:.3f}\")\n",
        "print(f\"Sensitivity (Recall for COVID): {sensitivity:.3f}\")\n",
        "print(f\"Specificity (TNR for non-COVID): {specificity:.3f}\")\n",
        "print(f\"ROC-AUC: {test_auc:.3f}\")\n",
        "\n",
        "print(\"Classification report:\")\n",
        "print(classification_report(y_test, y_pred_bin, target_names=['non-COVID','COVID']))\n"
      ]
    },
    {
      "cell_type": "code",
      "execution_count": 18,
      "id": "e3a16f16",
      "metadata": {
        "id": "e3a16f16",
        "colab": {
          "base_uri": "https://localhost:8080/",
          "height": 472
        },
        "outputId": "2ab13b5a-76da-4899-90e8-a72d1d0e12ba"
      },
      "outputs": [
        {
          "output_type": "display_data",
          "data": {
            "text/plain": [
              "<Figure size 640x480 with 1 Axes>"
            ],
            "image/png": "[encoded data removed]"
          },
          "metadata": {}
        }
      ],
      "source": [
        "\n",
        "# Plot confusion matrix\n",
        "plt.figure()\n",
        "plt.imshow(cm, interpolation='nearest')\n",
        "plt.title('Confusion Matrix (Test)')\n",
        "plt.xticks([0,1], ['non-COVID','COVID'])\n",
        "plt.yticks([0,1], ['non-COVID','COVID'])\n",
        "for (i, j), v in np.ndenumerate(cm):\n",
        "    plt.text(j, i, str(v), ha='center', va='center')\n",
        "plt.xlabel('Predicted')\n",
        "plt.ylabel('True')\n",
        "plt.show()\n"
      ]
    },
    {
      "cell_type": "code",
      "source": [
        "SKIP_GRADCAM = True\n"
      ],
      "metadata": {
        "id": "xQabPqL2Pa9G"
      },
      "id": "xQabPqL2Pa9G",
      "execution_count": 26,
      "outputs": []
    },
    {
      "cell_type": "markdown",
      "id": "f6b129ef",
      "metadata": {
        "id": "f6b129ef"
      },
      "source": [
        "\n",
        "## 9) Grad-CAM explainability\n",
        "\n",
        "Visualize salient regions the model relied on. We'll show a few examples from the test set.\n"
      ]
    },
    {
      "cell_type": "code",
      "execution_count": 27,
      "id": "fbac86c7",
      "metadata": {
        "id": "fbac86c7",
        "colab": {
          "base_uri": "https://localhost:8080/",
          "height": 141
        },
        "outputId": "34effd9d-53ea-43cc-995d-3fb35311542d"
      },
      "outputs": [
        {
          "output_type": "stream",
          "name": "stdout",
          "text": [
            "Grad-CAM praleistas.\n"
          ]
        },
        {
          "output_type": "error",
          "ename": "SystemExit",
          "evalue": "",
          "traceback": [
            "An exception has occurred, use %tb to see the full traceback.\n",
            "\u001b[0;31mSystemExit\u001b[0m\n"
          ]
        },
        {
          "output_type": "stream",
          "name": "stderr",
          "text": [
            "/usr/local/lib/python3.11/dist-packages/IPython/core/interactiveshell.py:3561: UserWarning: To exit: use 'exit', 'quit', or Ctrl-D.\n",
            "  warn(\"To exit: use 'exit', 'quit', or Ctrl-D.\", stacklevel=1)\n"
          ]
        }
      ],
      "source": [
        "if 'SKIP_GRADCAM' in globals() and SKIP_GRADCAM:\n",
        "    print(\"Grad-CAM praleistas.\"); raise SystemExit\n",
        "\n",
        "\n"
      ]
    },
    {
      "cell_type": "markdown",
      "id": "3c3e758d",
      "metadata": {
        "id": "3c3e758d"
      },
      "source": [
        "\n",
        "## 10) Save artifacts\n",
        "\n",
        "We save the trained model and a CSV with predictions for reproducibility.\n"
      ]
    },
    {
      "cell_type": "code",
      "execution_count": 28,
      "id": "c28328cd",
      "metadata": {
        "id": "c28328cd",
        "colab": {
          "base_uri": "https://localhost:8080/"
        },
        "outputId": "e7244c3b-1b6d-45d5-ef05-8b352b8bbe02"
      },
      "outputs": [
        {
          "output_type": "stream",
          "name": "stdout",
          "text": [
            "Saved to: /content/outputs\n"
          ]
        }
      ],
      "source": [
        "\n",
        "out_dir = pathlib.Path(\"/content/outputs\")\n",
        "out_dir.mkdir(parents=True, exist_ok=True)\n",
        "\n",
        "# Save model\n",
        "model.save(out_dir / \"covid_cxr_efficientnetb0.keras\")\n",
        "\n",
        "# Save predictions on test\n",
        "import pandas as pd\n",
        "preds_df = pd.DataFrame({\n",
        "    \"path\": test_df['path'].values,\n",
        "    \"true\": (test_df['label'].values).astype(int),\n",
        "    \"score\": s_test,\n",
        "    \"pred_bin\": (s_test >= best_thr).astype(int)\n",
        "})\n",
        "preds_df.to_csv(out_dir / \"test_preds.csv\", index=False)\n",
        "print(\"Saved to:\", out_dir)\n"
      ]
    },
    {
      "cell_type": "markdown",
      "id": "860c4256",
      "metadata": {
        "id": "860c4256"
      },
      "source": [
        "\n",
        "## 11) Reflection (5+ takeaways)\n",
        "\n",
        "1. **Duomenų kokybė ir šaltinių heterogeniškumas**: net ir „švariuose“ Kaggle rinkiniuose CXR vaizdai kilę iš skirtingų aparatų/centrų, todėl modeliai linkę išmokti ne tik patologiją, bet ir artefaktus (antraštes, žymes). Tai paaiškina, kodėl tikrasis perkėlimas į naują klinikinę aplinką dažnai nuvilia.\n",
        "2. **Binarizacijos kompromisas**: sujungus *Normal/Viral Pneumonia/Lung Opacity* į **non-COVID**, treniruotė tampa paprastesnė ir net su nedaug epochų pasiekiamas >50% tikslumas, bet prarandama diagnostinė specifika (pvz., atskirti kitų etiologijų pneumonijas).\n",
        "3. **Slenksčio pasirinkimas yra kritinis**: ROC AUC vienas pats nepasako, kaip elgsis sistema praktikoje. Tikslo (jautrumas vs specifiškumas) nustatymas ir, pvz., **Youden J** maksimizavimas leidžia rasti pusiausvyrą pagal poreikį (triage vs klaidingi aliarmiai).\n",
        "4. **Transfer learning > nuo nulio**: ImageNet pretreniruoti tinklai (pvz., EfficientNet) ženkliai pagreitina suartėjimą ir stabilizuoja mokymą net su ribotu duomenų kiekiu bei lengvomis augmentacijomis.\n",
        "5. **Paaiškinamumas yra būtinas**: **Grad-CAM** padeda patikrinti, ar modelis žiūri į plaučių lauką. Jei „karšti“ taškai yra už plaučių ribų, verta pridėti segmentaciją/maskes arba stipriau „nusivalyti“ meta-informacijos artefaktus.\n",
        "6. **Klinikinės ribos**: net jei skaičiai gražūs, toks klasifikatorius nėra diagnostikos pakaitalas. Jį galima naudoti tik mokslo/edukacijos tikslams arba kaip papildomą pagalbinę priemonę, įvertinus šališkumą ir generalizaciją.\n"
      ]
    },
    {
      "cell_type": "markdown",
      "id": "b02b7e76",
      "metadata": {
        "id": "b02b7e76"
      },
      "source": [
        "\n",
        "## 12) Notes & citations\n",
        "\n",
        "- **Dataset**: COVID-19 Radiography Dataset (Kaggle). See dataset card for class names and updates (COVID, Normal, Viral Pneumonia, Lung_Opacity; later updates increased COVID class size).  \n",
        "- **Paper reference**: Minaee, S. *et al.* (2020). *Predicting COVID-19 from chest X-ray images using deep learning*. **Patterns**. PMC7372265.\n",
        "- **Grad-CAM**: Keras example \"Grad-CAM class activation visualization\".\n",
        "\n",
        "> This notebook is for reproducible educational research. Always verify dataset licenses/terms on Kaggle before use.\n"
      ]
    },
    {
      "cell_type": "markdown",
      "id": "2ee7edfc",
      "metadata": {
        "id": "2ee7edfc"
      },
      "source": [
        "\n",
        "## Troubleshooting (Out-of-memory or Kernel restarts)\n",
        "\n",
        "If you still see messages like **\"could not allocate pinned host memory\"** or the **kernel restarts**, try this:\n",
        "- Set **even smaller batch size**: change `BATCH_SIZE = 8` (or `4`).\n",
        "- Lower **parallelism** more: in the TF data cell, set `num_parallel_calls=1` and `.prefetch(1)`.\n",
        "- Temporarily **disable Grad-CAM** cell or reduce samples from 6 → 2.\n",
        "- Reduce image size (e.g., `IMG_SIZE = (192, 192)`).\n",
        "- Use **Runtime → Factory reset runtime** in Colab, re-run from scratch.\n"
      ]
    }
  ],
  "metadata": {
    "colab": {
      "provenance": [],
      "include_colab_link": true
    },
    "language_info": {
      "name": "python"
    },
    "kernelspec": {
      "name": "python3",
      "display_name": "Python 3"
    }
  },
  "nbformat": 4,
  "nbformat_minor": 5
}